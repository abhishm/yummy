{
 "cells": [
  {
   "cell_type": "markdown",
   "metadata": {},
   "source": [
    "### In this blog, we will make a model that can figure out the cuisine from the ingredients. We will use a simple Naive Bayes approach."
   ]
  },
  {
   "cell_type": "markdown",
   "metadata": {},
   "source": [
    "Importing Some Python Modules"
   ]
  },
  {
   "cell_type": "code",
   "execution_count": 5,
   "metadata": {
    "collapsed": true
   },
   "outputs": [],
   "source": [
    "import pandas as pd\n",
    "import json\n",
    "from sklearn.pipeline import Pipeline\n",
    "from sklearn.naive_bayes import MultinomialNB\n",
    "from sklearn.feature_extraction.text import CountVectorizer"
   ]
  },
  {
   "cell_type": "markdown",
   "metadata": {},
   "source": [
    "I will be using the Kaggle data provided in this [competition](https://www.kaggle.com/c/whats-cooking) for the cuisine prediction. "
   ]
  },
  {
   "cell_type": "code",
   "execution_count": 10,
   "metadata": {
    "collapsed": true
   },
   "outputs": [],
   "source": [
    "fin = open('train.json')"
   ]
  },
  {
   "cell_type": "code",
   "execution_count": 11,
   "metadata": {
    "collapsed": false
   },
   "outputs": [],
   "source": [
    "t = json.loads(fin.read())"
   ]
  },
  {
   "cell_type": "markdown",
   "metadata": {},
   "source": [
    "## The format of the training data"
   ]
  },
  {
   "cell_type": "markdown",
   "metadata": {},
   "source": [
    "The data is given as a json object. "
   ]
  },
  {
   "cell_type": "code",
   "execution_count": 9,
   "metadata": {
    "collapsed": false
   },
   "outputs": [
    {
     "data": {
      "text/plain": [
       "{u'cuisine': u'greek',\n",
       " u'id': 10259,\n",
       " u'ingredients': [u'romaine lettuce',\n",
       "  u'black olives',\n",
       "  u'grape tomatoes',\n",
       "  u'garlic',\n",
       "  u'pepper',\n",
       "  u'purple onion',\n",
       "  u'seasoning',\n",
       "  u'garbanzo beans',\n",
       "  u'feta cheese crumbles']}"
      ]
     },
     "execution_count": 9,
     "metadata": {},
     "output_type": "execute_result"
    }
   ],
   "source": [
    "t[0]"
   ]
  },
  {
   "cell_type": "markdown",
   "metadata": {},
   "source": [
    "##Lets see how many unique cuisines we have in our data"
   ]
  },
  {
   "cell_type": "code",
   "execution_count": 22,
   "metadata": {
    "collapsed": false
   },
   "outputs": [
    {
     "name": "stdout",
     "output_type": "stream",
     "text": [
      "Irish\n",
      "Mexican\n",
      "Chinese\n",
      "Filipino\n",
      "Vietnamese\n",
      "Moroccan\n",
      "Brazilian\n",
      "Japanese\n",
      "British\n",
      "Greek\n",
      "Indian\n",
      "Jamaican\n",
      "French\n",
      "Spanish\n",
      "Russian\n",
      "Cajun_Creole\n",
      "Thai\n",
      "Southern_Us\n",
      "Korean\n",
      "Italian\n"
     ]
    }
   ],
   "source": [
    "uniqueCuisine = set(map(lambda x:x['cuisine'], t))\n",
    "print '\\n'.join(uniqueCuisine).title()"
   ]
  },
  {
   "cell_type": "markdown",
   "metadata": {},
   "source": [
    "###Lets make a dictionary for assigning different cuisines to a unique integers."
   ]
  },
  {
   "cell_type": "code",
   "execution_count": 28,
   "metadata": {
    "collapsed": true
   },
   "outputs": [],
   "source": [
    "cuisineDict = dict(zip(sorted(list(uniqueCuisine)), range(len(uniqueCuisine))))\n",
    "dictCuisine = dict(zip(range(len(uniqueCuisine)), sorted(list(uniqueCuisine)) ))"
   ]
  },
  {
   "cell_type": "code",
   "execution_count": 29,
   "metadata": {
    "collapsed": false
   },
   "outputs": [
    {
     "data": {
      "text/plain": [
       "{0: u'brazilian',\n",
       " 1: u'british',\n",
       " 2: u'cajun_creole',\n",
       " 3: u'chinese',\n",
       " 4: u'filipino',\n",
       " 5: u'french',\n",
       " 6: u'greek',\n",
       " 7: u'indian',\n",
       " 8: u'irish',\n",
       " 9: u'italian',\n",
       " 10: u'jamaican',\n",
       " 11: u'japanese',\n",
       " 12: u'korean',\n",
       " 13: u'mexican',\n",
       " 14: u'moroccan',\n",
       " 15: u'russian',\n",
       " 16: u'southern_us',\n",
       " 17: u'spanish',\n",
       " 18: u'thai',\n",
       " 19: u'vietnamese'}"
      ]
     },
     "execution_count": 29,
     "metadata": {},
     "output_type": "execute_result"
    }
   ],
   "source": [
    "dictCuisine"
   ]
  },
  {
   "cell_type": "code",
   "execution_count": 30,
   "metadata": {
    "collapsed": false
   },
   "outputs": [
    {
     "data": {
      "text/plain": [
       "{u'brazilian': 0,\n",
       " u'british': 1,\n",
       " u'cajun_creole': 2,\n",
       " u'chinese': 3,\n",
       " u'filipino': 4,\n",
       " u'french': 5,\n",
       " u'greek': 6,\n",
       " u'indian': 7,\n",
       " u'irish': 8,\n",
       " u'italian': 9,\n",
       " u'jamaican': 10,\n",
       " u'japanese': 11,\n",
       " u'korean': 12,\n",
       " u'mexican': 13,\n",
       " u'moroccan': 14,\n",
       " u'russian': 15,\n",
       " u'southern_us': 16,\n",
       " u'spanish': 17,\n",
       " u'thai': 18,\n",
       " u'vietnamese': 19}"
      ]
     },
     "execution_count": 30,
     "metadata": {},
     "output_type": "execute_result"
    }
   ],
   "source": [
    "cuisineDict"
   ]
  },
  {
   "cell_type": "code",
   "execution_count": 15,
   "metadata": {
    "collapsed": true
   },
   "outputs": [],
   "source": [
    "def listTowords(alist):\n",
    "    combineWordList = ' '.join(map(lambda x: '_'.join(x.strip().split()), alist))\n",
    "    return combineWordList"
   ]
  },
  {
   "cell_type": "code",
   "execution_count": 37,
   "metadata": {
    "collapsed": true
   },
   "outputs": [],
   "source": [
    "def dataFile(filename):\n",
    "    ingredientsAndcuisine = json.loads(open(filename).read())\n",
    "    ingredientsCuisineList = map(lambda x:(listTowords(x['ingredients']), cuisineDict[x['cuisine']]), ingredientsAndcuisine) \n",
    "    ingredients, cuisine = map(lambda x: x[0], ingredientsCuisineList), map(lambda x:x[1], ingredientsCuisineList)\n",
    "    return ingredients, cuisine"
   ]
  },
  {
   "cell_type": "code",
   "execution_count": 39,
   "metadata": {
    "collapsed": false
   },
   "outputs": [],
   "source": [
    "ingredients, cuisine = dataFile('train.json')"
   ]
  },
  {
   "cell_type": "markdown",
   "metadata": {},
   "source": [
    "### Now we have ingredients and cuisine data. Since most machine learning algorithm work with numbers, we will create a [Bag of Words](https://en.wikipedia.org/wiki/Bag-of-words_model) from the ingredients data. "
   ]
  },
  {
   "cell_type": "markdown",
   "metadata": {},
   "source": [
    "### To achive this goal, we will use sci-kit learn CountVectorizer.  "
   ]
  },
  {
   "cell_type": "code",
   "execution_count": 40,
   "metadata": {
    "collapsed": true
   },
   "outputs": [],
   "source": [
    "vec = CountVectorizer()\n",
    "data_X = vec.fit_transform(ingredients)"
   ]
  },
  {
   "cell_type": "markdown",
   "metadata": {},
   "source": [
    "#### We will use the transformed data to train our model. "
   ]
  },
  {
   "cell_type": "code",
   "execution_count": 42,
   "metadata": {
    "collapsed": false
   },
   "outputs": [
    {
     "data": {
      "text/plain": [
       "MultinomialNB(alpha=1.0, class_prior=None, fit_prior=True)"
      ]
     },
     "execution_count": 42,
     "metadata": {},
     "output_type": "execute_result"
    }
   ],
   "source": [
    "mnb = MultinomialNB()\n",
    "mnb.fit(data_X, cuisine)"
   ]
  },
  {
   "cell_type": "markdown",
   "metadata": {},
   "source": [
    "### Lets test our model in some new data."
   ]
  },
  {
   "cell_type": "code",
   "execution_count": 59,
   "metadata": {
    "collapsed": false
   },
   "outputs": [],
   "source": [
    "fin = open('test.json')\n",
    "t = json.loads(fin.read())"
   ]
  },
  {
   "cell_type": "markdown",
   "metadata": {},
   "source": [
    "### Lets try to see which cuisne the following ingredients belong to using our model."
   ]
  },
  {
   "cell_type": "code",
   "execution_count": 100,
   "metadata": {
    "collapsed": false
   },
   "outputs": [
    {
     "data": {
      "text/plain": [
       "[u'creamed coconut',\n",
       " u'almonds',\n",
       " u'chicken thigh fillets',\n",
       " u'cilantro leaves',\n",
       " u'greek yogurt',\n",
       " u'black peppercorns',\n",
       " u'milk',\n",
       " u'white poppy seeds',\n",
       " u'garlic',\n",
       " u'lemon juice',\n",
       " u'onions',\n",
       " u'clove',\n",
       " u'red chili peppers',\n",
       " u'garam masala',\n",
       " u'ginger',\n",
       " u'cardamom',\n",
       " u'ghee',\n",
       " u'tumeric',\n",
       " u'coriander seeds',\n",
       " u'cassia cinnamon',\n",
       " u'salt',\n",
       " u'gram flour',\n",
       " u'saffron']"
      ]
     },
     "execution_count": 100,
     "metadata": {},
     "output_type": "execute_result"
    }
   ],
   "source": [
    "t[200]['ingredients']"
   ]
  },
  {
   "cell_type": "code",
   "execution_count": 99,
   "metadata": {
    "collapsed": false
   },
   "outputs": [
    {
     "data": {
      "text/plain": [
       "u'indian'"
      ]
     },
     "execution_count": 99,
     "metadata": {},
     "output_type": "execute_result"
    }
   ],
   "source": [
    "(dictCuisine\n",
    " [mnb.predict(vec\n",
    "              .transform([listTowords(t[200]['ingredients'])]))\n",
    "              .item()])"
   ]
  },
  {
   "cell_type": "code",
   "execution_count": null,
   "metadata": {
    "collapsed": true
   },
   "outputs": [],
   "source": []
  },
  {
   "cell_type": "markdown",
   "metadata": {},
   "source": [
    "### Our model suggests that the above ingredients belong to southern US style cooking. "
   ]
  },
  {
   "cell_type": "markdown",
   "metadata": {},
   "source": [
    "## Now we will check the accuracy of our model using the test data provided by the Kaggle. "
   ]
  },
  {
   "cell_type": "code",
   "execution_count": 65,
   "metadata": {
    "collapsed": true
   },
   "outputs": [],
   "source": [
    "idx = map(lambda x:x['id'], t)"
   ]
  },
  {
   "cell_type": "code",
   "execution_count": 69,
   "metadata": {
    "collapsed": true
   },
   "outputs": [],
   "source": [
    "data_X_test = vec.transform(map(lambda x:listTowords(x['ingredients']), t))"
   ]
  },
  {
   "cell_type": "code",
   "execution_count": 70,
   "metadata": {
    "collapsed": false
   },
   "outputs": [],
   "source": [
    "(pd\n",
    " .DataFrame({'id': idx, 'cuisine': map(lambda x: dictCuisine[x], mnb.predict(data_X_test))})\n",
    " .to_csv(open('submission.csv', 'w'), index=False))"
   ]
  },
  {
   "cell_type": "markdown",
   "metadata": {},
   "source": [
    "## Our simple model shows 74% accuracy on the test data set. "
   ]
  }
 ],
 "metadata": {
  "kernelspec": {
   "display_name": "Python 2",
   "language": "python",
   "name": "python2"
  },
  "language_info": {
   "codemirror_mode": {
    "name": "ipython",
    "version": 2
   },
   "file_extension": ".py",
   "mimetype": "text/x-python",
   "name": "python",
   "nbconvert_exporter": "python",
   "pygments_lexer": "ipython2",
   "version": "2.7.10"
  }
 },
 "nbformat": 4,
 "nbformat_minor": 0
}
